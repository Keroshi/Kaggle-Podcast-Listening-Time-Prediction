{
 "cells": [
  {
   "cell_type": "code",
   "id": "initial_id",
   "metadata": {
    "collapsed": true,
    "ExecuteTime": {
     "end_time": "2025-04-30T00:12:08.857955Z",
     "start_time": "2025-04-30T00:12:08.853774Z"
    }
   },
   "source": [
    "import pandas as pd\n",
    "from sklearn.neighbors import KNeighborsRegressor\n",
    "from sklearn.preprocessing import StandardScaler, LabelEncoder\n",
    "from sklearn.model_selection import train_test_split\n",
    "from sklearn.metrics import root_mean_squared_error"
   ],
   "outputs": [],
   "execution_count": 17
  },
  {
   "metadata": {
    "ExecuteTime": {
     "end_time": "2025-04-30T00:07:01.310965Z",
     "start_time": "2025-04-30T00:07:00.405570Z"
    }
   },
   "cell_type": "code",
   "source": [
    "train_df = pd.read_csv(\"./inputs/train.csv\").set_index(\"id\")\n",
    "target = train_df[\"Listening_Time_minutes\"]\n",
    "train_df.drop(\"Listening_Time_minutes\", axis=1, inplace=True)\n",
    "train_df.head()"
   ],
   "id": "2469e97ca04f8b62",
   "outputs": [
    {
     "data": {
      "text/plain": [
       "       Podcast_Name Episode_Title  Episode_Length_minutes       Genre  \\\n",
       "id                                                                      \n",
       "0   Mystery Matters    Episode 98                     NaN  True Crime   \n",
       "1     Joke Junction    Episode 26                  119.80      Comedy   \n",
       "2    Study Sessions    Episode 16                   73.90   Education   \n",
       "3    Digital Digest    Episode 45                   67.17  Technology   \n",
       "4       Mind & Body    Episode 86                  110.51      Health   \n",
       "\n",
       "    Host_Popularity_percentage Publication_Day Publication_Time  \\\n",
       "id                                                                \n",
       "0                        74.81        Thursday            Night   \n",
       "1                        66.95        Saturday        Afternoon   \n",
       "2                        69.97         Tuesday          Evening   \n",
       "3                        57.22          Monday          Morning   \n",
       "4                        80.07          Monday        Afternoon   \n",
       "\n",
       "    Guest_Popularity_percentage  Number_of_Ads Episode_Sentiment  \n",
       "id                                                                \n",
       "0                           NaN            0.0          Positive  \n",
       "1                         75.95            2.0          Negative  \n",
       "2                          8.97            0.0          Negative  \n",
       "3                         78.70            2.0          Positive  \n",
       "4                         58.68            3.0           Neutral  "
      ],
      "text/html": [
       "<div>\n",
       "<style scoped>\n",
       "    .dataframe tbody tr th:only-of-type {\n",
       "        vertical-align: middle;\n",
       "    }\n",
       "\n",
       "    .dataframe tbody tr th {\n",
       "        vertical-align: top;\n",
       "    }\n",
       "\n",
       "    .dataframe thead th {\n",
       "        text-align: right;\n",
       "    }\n",
       "</style>\n",
       "<table border=\"1\" class=\"dataframe\">\n",
       "  <thead>\n",
       "    <tr style=\"text-align: right;\">\n",
       "      <th></th>\n",
       "      <th>Podcast_Name</th>\n",
       "      <th>Episode_Title</th>\n",
       "      <th>Episode_Length_minutes</th>\n",
       "      <th>Genre</th>\n",
       "      <th>Host_Popularity_percentage</th>\n",
       "      <th>Publication_Day</th>\n",
       "      <th>Publication_Time</th>\n",
       "      <th>Guest_Popularity_percentage</th>\n",
       "      <th>Number_of_Ads</th>\n",
       "      <th>Episode_Sentiment</th>\n",
       "    </tr>\n",
       "    <tr>\n",
       "      <th>id</th>\n",
       "      <th></th>\n",
       "      <th></th>\n",
       "      <th></th>\n",
       "      <th></th>\n",
       "      <th></th>\n",
       "      <th></th>\n",
       "      <th></th>\n",
       "      <th></th>\n",
       "      <th></th>\n",
       "      <th></th>\n",
       "    </tr>\n",
       "  </thead>\n",
       "  <tbody>\n",
       "    <tr>\n",
       "      <th>0</th>\n",
       "      <td>Mystery Matters</td>\n",
       "      <td>Episode 98</td>\n",
       "      <td>NaN</td>\n",
       "      <td>True Crime</td>\n",
       "      <td>74.81</td>\n",
       "      <td>Thursday</td>\n",
       "      <td>Night</td>\n",
       "      <td>NaN</td>\n",
       "      <td>0.0</td>\n",
       "      <td>Positive</td>\n",
       "    </tr>\n",
       "    <tr>\n",
       "      <th>1</th>\n",
       "      <td>Joke Junction</td>\n",
       "      <td>Episode 26</td>\n",
       "      <td>119.80</td>\n",
       "      <td>Comedy</td>\n",
       "      <td>66.95</td>\n",
       "      <td>Saturday</td>\n",
       "      <td>Afternoon</td>\n",
       "      <td>75.95</td>\n",
       "      <td>2.0</td>\n",
       "      <td>Negative</td>\n",
       "    </tr>\n",
       "    <tr>\n",
       "      <th>2</th>\n",
       "      <td>Study Sessions</td>\n",
       "      <td>Episode 16</td>\n",
       "      <td>73.90</td>\n",
       "      <td>Education</td>\n",
       "      <td>69.97</td>\n",
       "      <td>Tuesday</td>\n",
       "      <td>Evening</td>\n",
       "      <td>8.97</td>\n",
       "      <td>0.0</td>\n",
       "      <td>Negative</td>\n",
       "    </tr>\n",
       "    <tr>\n",
       "      <th>3</th>\n",
       "      <td>Digital Digest</td>\n",
       "      <td>Episode 45</td>\n",
       "      <td>67.17</td>\n",
       "      <td>Technology</td>\n",
       "      <td>57.22</td>\n",
       "      <td>Monday</td>\n",
       "      <td>Morning</td>\n",
       "      <td>78.70</td>\n",
       "      <td>2.0</td>\n",
       "      <td>Positive</td>\n",
       "    </tr>\n",
       "    <tr>\n",
       "      <th>4</th>\n",
       "      <td>Mind &amp; Body</td>\n",
       "      <td>Episode 86</td>\n",
       "      <td>110.51</td>\n",
       "      <td>Health</td>\n",
       "      <td>80.07</td>\n",
       "      <td>Monday</td>\n",
       "      <td>Afternoon</td>\n",
       "      <td>58.68</td>\n",
       "      <td>3.0</td>\n",
       "      <td>Neutral</td>\n",
       "    </tr>\n",
       "  </tbody>\n",
       "</table>\n",
       "</div>"
      ]
     },
     "execution_count": 6,
     "metadata": {},
     "output_type": "execute_result"
    }
   ],
   "execution_count": 6
  },
  {
   "metadata": {
    "ExecuteTime": {
     "end_time": "2025-04-30T00:09:25.576070Z",
     "start_time": "2025-04-30T00:09:25.496656Z"
    }
   },
   "cell_type": "code",
   "source": "train_df.fillna(train_df.mean(), inplace=True)",
   "id": "ebb64042b10a963",
   "outputs": [],
   "execution_count": 12
  },
  {
   "metadata": {
    "ExecuteTime": {
     "end_time": "2025-04-30T00:09:28.481023Z",
     "start_time": "2025-04-30T00:09:28.249141Z"
    }
   },
   "cell_type": "code",
   "source": [
    "# Encode the categorical columns\n",
    "%store -r categories\n",
    "# categories = categories[:1] + categories[2:]\n",
    "display(categories)\n",
    "encoder = LabelEncoder()\n",
    "for column in categories:\n",
    "    train_df[column] = encoder.fit_transform(train_df[column])\n",
    "\n",
    "train_df[categories]"
   ],
   "id": "b57c29e5df087804",
   "outputs": [
    {
     "data": {
      "text/plain": [
       "['Podcast_Name',\n",
       " 'Episode_Title',\n",
       " 'Genre',\n",
       " 'Publication_Day',\n",
       " 'Publication_Time',\n",
       " 'Episode_Sentiment']"
      ]
     },
     "metadata": {},
     "output_type": "display_data"
    },
    {
     "data": {
      "text/plain": [
       "        Podcast_Name  Episode_Title  Genre  Publication_Day  Publication_Time  \\\n",
       "id                                                                              \n",
       "0                 34             98      9                4                 3   \n",
       "1                 24             19      1                2                 0   \n",
       "2                 40              8      2                5                 1   \n",
       "3                 10             40      8                1                 2   \n",
       "4                 31             85      3                1                 0   \n",
       "...              ...            ...    ...              ...               ...   \n",
       "749995            26             18      2                2                 2   \n",
       "749996             2             14      0                2                 3   \n",
       "749997            28             47      4                4                 2   \n",
       "749998            41             42      4                4                 2   \n",
       "749999            38             99      7                2                 3   \n",
       "\n",
       "        Episode_Sentiment  \n",
       "id                         \n",
       "0                       2  \n",
       "1                       0  \n",
       "2                       0  \n",
       "3                       2  \n",
       "4                       1  \n",
       "...                   ...  \n",
       "749995                  0  \n",
       "749996                  1  \n",
       "749997                  0  \n",
       "749998                  0  \n",
       "749999                  1  \n",
       "\n",
       "[750000 rows x 6 columns]"
      ],
      "text/html": [
       "<div>\n",
       "<style scoped>\n",
       "    .dataframe tbody tr th:only-of-type {\n",
       "        vertical-align: middle;\n",
       "    }\n",
       "\n",
       "    .dataframe tbody tr th {\n",
       "        vertical-align: top;\n",
       "    }\n",
       "\n",
       "    .dataframe thead th {\n",
       "        text-align: right;\n",
       "    }\n",
       "</style>\n",
       "<table border=\"1\" class=\"dataframe\">\n",
       "  <thead>\n",
       "    <tr style=\"text-align: right;\">\n",
       "      <th></th>\n",
       "      <th>Podcast_Name</th>\n",
       "      <th>Episode_Title</th>\n",
       "      <th>Genre</th>\n",
       "      <th>Publication_Day</th>\n",
       "      <th>Publication_Time</th>\n",
       "      <th>Episode_Sentiment</th>\n",
       "    </tr>\n",
       "    <tr>\n",
       "      <th>id</th>\n",
       "      <th></th>\n",
       "      <th></th>\n",
       "      <th></th>\n",
       "      <th></th>\n",
       "      <th></th>\n",
       "      <th></th>\n",
       "    </tr>\n",
       "  </thead>\n",
       "  <tbody>\n",
       "    <tr>\n",
       "      <th>0</th>\n",
       "      <td>34</td>\n",
       "      <td>98</td>\n",
       "      <td>9</td>\n",
       "      <td>4</td>\n",
       "      <td>3</td>\n",
       "      <td>2</td>\n",
       "    </tr>\n",
       "    <tr>\n",
       "      <th>1</th>\n",
       "      <td>24</td>\n",
       "      <td>19</td>\n",
       "      <td>1</td>\n",
       "      <td>2</td>\n",
       "      <td>0</td>\n",
       "      <td>0</td>\n",
       "    </tr>\n",
       "    <tr>\n",
       "      <th>2</th>\n",
       "      <td>40</td>\n",
       "      <td>8</td>\n",
       "      <td>2</td>\n",
       "      <td>5</td>\n",
       "      <td>1</td>\n",
       "      <td>0</td>\n",
       "    </tr>\n",
       "    <tr>\n",
       "      <th>3</th>\n",
       "      <td>10</td>\n",
       "      <td>40</td>\n",
       "      <td>8</td>\n",
       "      <td>1</td>\n",
       "      <td>2</td>\n",
       "      <td>2</td>\n",
       "    </tr>\n",
       "    <tr>\n",
       "      <th>4</th>\n",
       "      <td>31</td>\n",
       "      <td>85</td>\n",
       "      <td>3</td>\n",
       "      <td>1</td>\n",
       "      <td>0</td>\n",
       "      <td>1</td>\n",
       "    </tr>\n",
       "    <tr>\n",
       "      <th>...</th>\n",
       "      <td>...</td>\n",
       "      <td>...</td>\n",
       "      <td>...</td>\n",
       "      <td>...</td>\n",
       "      <td>...</td>\n",
       "      <td>...</td>\n",
       "    </tr>\n",
       "    <tr>\n",
       "      <th>749995</th>\n",
       "      <td>26</td>\n",
       "      <td>18</td>\n",
       "      <td>2</td>\n",
       "      <td>2</td>\n",
       "      <td>2</td>\n",
       "      <td>0</td>\n",
       "    </tr>\n",
       "    <tr>\n",
       "      <th>749996</th>\n",
       "      <td>2</td>\n",
       "      <td>14</td>\n",
       "      <td>0</td>\n",
       "      <td>2</td>\n",
       "      <td>3</td>\n",
       "      <td>1</td>\n",
       "    </tr>\n",
       "    <tr>\n",
       "      <th>749997</th>\n",
       "      <td>28</td>\n",
       "      <td>47</td>\n",
       "      <td>4</td>\n",
       "      <td>4</td>\n",
       "      <td>2</td>\n",
       "      <td>0</td>\n",
       "    </tr>\n",
       "    <tr>\n",
       "      <th>749998</th>\n",
       "      <td>41</td>\n",
       "      <td>42</td>\n",
       "      <td>4</td>\n",
       "      <td>4</td>\n",
       "      <td>2</td>\n",
       "      <td>0</td>\n",
       "    </tr>\n",
       "    <tr>\n",
       "      <th>749999</th>\n",
       "      <td>38</td>\n",
       "      <td>99</td>\n",
       "      <td>7</td>\n",
       "      <td>2</td>\n",
       "      <td>3</td>\n",
       "      <td>1</td>\n",
       "    </tr>\n",
       "  </tbody>\n",
       "</table>\n",
       "<p>750000 rows × 6 columns</p>\n",
       "</div>"
      ]
     },
     "execution_count": 13,
     "metadata": {},
     "output_type": "execute_result"
    }
   ],
   "execution_count": 13
  },
  {
   "metadata": {
    "ExecuteTime": {
     "end_time": "2025-04-30T00:09:31.016847Z",
     "start_time": "2025-04-30T00:09:30.872213Z"
    }
   },
   "cell_type": "code",
   "source": [
    "# Scale the data\n",
    "scaler = StandardScaler()\n",
    "train_df_scaled = scaler.fit_transform(train_df)\n",
    "train_df_scaled"
   ],
   "id": "29c9636d73b2f06b",
   "outputs": [
    {
     "data": {
      "text/plain": [
       "array([[ 7.41589350e-01,  1.69278629e+00,  4.58470222e-16, ...,\n",
       "         0.00000000e+00, -1.17176708e+00,  1.22882316e+00],\n",
       "       [ 3.42540781e-02, -1.10995773e+00,  1.78393428e+00, ...,\n",
       "         9.28792460e-01,  5.65657867e-01, -1.22384261e+00],\n",
       "       [ 1.16599051e+00, -1.50021322e+00,  3.03109685e-01, ...,\n",
       "        -1.69462395e+00, -1.17176708e+00, -1.22384261e+00],\n",
       "       ...,\n",
       "       [ 3.17188187e-01, -1.16580102e-01, -1.08157423e+00, ...,\n",
       "         1.27894687e+00, -1.17176708e+00, -1.22384261e+00],\n",
       "       [ 1.23672404e+00, -2.93968964e-01,  1.43485973e+00, ...,\n",
       "         1.60716768e+00, -1.17176708e+00, -1.22384261e+00],\n",
       "       [ 1.02452346e+00,  1.72826406e+00, -1.30353661e+00, ...,\n",
       "        -6.07735245e-01, -1.17176708e+00,  2.49027332e-03]])"
      ]
     },
     "execution_count": 14,
     "metadata": {},
     "output_type": "execute_result"
    }
   ],
   "execution_count": 14
  },
  {
   "metadata": {
    "ExecuteTime": {
     "end_time": "2025-04-30T00:09:33.314441Z",
     "start_time": "2025-04-30T00:09:33.179013Z"
    }
   },
   "cell_type": "code",
   "source": "X_train, X_test, y_train, y_test = train_test_split(train_df_scaled, target, test_size=0.2, random_state=42)",
   "id": "471886417d7d4bda",
   "outputs": [],
   "execution_count": 15
  },
  {
   "metadata": {
    "ExecuteTime": {
     "end_time": "2025-04-30T00:11:10.203623Z",
     "start_time": "2025-04-30T00:09:34.304628Z"
    }
   },
   "cell_type": "code",
   "source": [
    "model = KNeighborsRegressor()\n",
    "model.fit(X_train, y_train)\n",
    "predictions = model.predict(X_test)\n",
    "score = root_mean_squared_error(y_test, predictions)\n",
    "print(score)"
   ],
   "id": "a2f653ec313e2d76",
   "outputs": [
    {
     "name": "stdout",
     "output_type": "stream",
     "text": [
      "219.40249749312886\n"
     ]
    }
   ],
   "execution_count": 16
  }
 ],
 "metadata": {
  "kernelspec": {
   "display_name": "Python 3",
   "language": "python",
   "name": "python3"
  },
  "language_info": {
   "codemirror_mode": {
    "name": "ipython",
    "version": 2
   },
   "file_extension": ".py",
   "mimetype": "text/x-python",
   "name": "python",
   "nbconvert_exporter": "python",
   "pygments_lexer": "ipython2",
   "version": "2.7.6"
  }
 },
 "nbformat": 4,
 "nbformat_minor": 5
}
